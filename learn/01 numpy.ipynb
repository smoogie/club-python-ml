{
 "cells": [
  {
   "cell_type": "markdown",
   "source": [
    "# NumPy\n",
    "\n",
    "Install and import numpy"
   ],
   "metadata": {
    "collapsed": false
   },
   "id": "c8f2f25dd4ec2803"
  },
  {
   "cell_type": "code",
   "execution_count": null,
   "id": "9f0ced95-f55a-4af1-89de-64d63af3ada9",
   "metadata": {},
   "outputs": [],
   "source": [
    "!pip install numpy"
   ]
  },
  {
   "cell_type": "code",
   "execution_count": null,
   "id": "22bc87c1-d8d5-47b4-8eb0-6027f7592194",
   "metadata": {},
   "outputs": [],
   "source": [
    "import numpy as np"
   ]
  },
  {
   "cell_type": "markdown",
   "source": [
    "## Basic array creation, indexing and slicing\n",
    "\n",
    "To create a numpy array, we can use np.array(), which accepts a list/array of items. To create a multidimensional array, just add nested lists."
   ],
   "metadata": {
    "collapsed": false
   },
   "id": "f6c0244912fd5573"
  },
  {
   "cell_type": "code",
   "outputs": [],
   "source": [
    "np_arr = np.array([1, 2, 3, 4, 5])\n",
    "print(np_arr)\n",
    "print(type(np_arr))\n",
    "\n",
    "np_array2 = np.array((1, 2, 3, 4, 5))\n",
    "print(np_array2)\n",
    "print(type(np_array2)) \n",
    "\n",
    "array2x3 = np.array([[11,12,13],[21,22,23]])\n",
    "print(array2x3)\n",
    "print(array2x3.ndim)\n",
    "print(array2x3[0,-1])"
   ],
   "metadata": {
    "collapsed": false
   },
   "id": "f00a972467a63ef0",
   "execution_count": null
  },
  {
   "cell_type": "markdown",
   "source": [
    "Create a 4x2x2x2  array and print the two selected items and a number of dimensions. Next, print the last position from np_arr (assume you do not know how many items it has). At the end print the sum of each row from array2x3 defined in the previous cell. "
   ],
   "metadata": {
    "collapsed": false
   },
   "id": "f285948f81ffa063"
  },
  {
   "cell_type": "code",
   "outputs": [],
   "source": [
    "#create array\n",
    "array4x2x2x2 = __\n",
    "#print selected items\n",
    "print(__)\n",
    "print(__)\n",
    "#print number of dimensions\n",
    "print(__)\n",
    "#print the last item from np_array\n",
    "print(__)\n",
    "#sum each row from array2x3 and display it\n",
    "__"
   ],
   "metadata": {
    "collapsed": false
   },
   "id": "21bff1d0543a16c8"
  },
  {
   "cell_type": "markdown",
   "source": [
    "Slicing a numpy array is similar to slicing the python list. So you follow the pattern: list[Initial:End:IndexJump]. For each dimension you get the same set of parameters: list[InitialDim1:EndDim1:IndexJumpDim1,InitialDim2:EndDim2:IndexJumpDim2,...]\n",
    "\n",
    "Slice and print each second and third element from each row of array2x4. Slice and print each even element from the first and second row in the first item (3rd dimension) in array2x3x6."
   ],
   "metadata": {
    "collapsed": false
   },
   "id": "79595e4d333c2a63"
  },
  {
   "cell_type": "code",
   "outputs": [],
   "source": [
    "#Slice and print each second and third element from each row of array2x4\n",
    "array2x4 = np.array([[11,12,13,14],[21,22,23,24]])\n",
    "print(__)\n",
    "#Slice and print each even element from the first and second row in the first list in array2x3x6.\n",
    "array2x3x6 = np.array([[[111,112,113,114,115,116],[121,122,123,124,125,126],[131,132,133,134,135,136]],[[211,212,213,214,215,216],[221,222,223,224,225,226],[231,232,233,234,235,236]]])\n",
    "print(__)"
   ],
   "metadata": {
    "collapsed": false
   },
   "id": "5a289353d331128c",
   "execution_count": null
  },
  {
   "cell_type": "markdown",
   "source": [
    "## Random\n",
    "\n",
    "Generating random values can be achieved with the Numpy Random Generator. Please run the cell below a few times before you move forward."
   ],
   "metadata": {
    "collapsed": false
   },
   "id": "b2028986d78f113e"
  },
  {
   "cell_type": "code",
   "outputs": [],
   "source": [
    "print(np.random.rand())\n",
    "print(np.random.rand())"
   ],
   "metadata": {
    "collapsed": false
   },
   "id": "13b3aa959623a457",
   "execution_count": null
  },
  {
   "cell_type": "markdown",
   "source": [
    "As you probably have seen, each time, you get different values. In science, it is important to be able to repeat your experiment. To achieve that and still use randomization, you can use seeds. This will set the initial value to be the same, and subsequently, each time you run the code, you will get the same set of \"random\" values. Please run the code below a few times. "
   ],
   "metadata": {
    "collapsed": false
   },
   "id": "42d1cf49ab735001"
  },
  {
   "cell_type": "code",
   "outputs": [],
   "source": [
    "# Set the seed\n",
    "np.random.seed(1234)\n",
    "# Generate and print random 4 floats\n",
    "random = np.random.rand(4)\n",
    "print(random)"
   ],
   "metadata": {
    "collapsed": false
   },
   "id": "c4ee51301f69b4e3",
   "execution_count": null
  },
  {
   "cell_type": "markdown",
   "source": [
    "To get random int value you can use .randint(min,lowerThan)"
   ],
   "metadata": {
    "collapsed": false
   },
   "id": "414429723b04b6f1"
  },
  {
   "cell_type": "code",
   "outputs": [],
   "source": [
    "# generate random int from 1 to 10\n",
    "random = np.random.randint(1,11)\n",
    "print(random)"
   ],
   "metadata": {
    "collapsed": false
   },
   "id": "de7e389cec2f94cc",
   "execution_count": null
  },
  {
   "cell_type": "markdown",
   "source": [
    "Simulate five series of 100 dice throws. Use seed 100. Print all results."
   ],
   "metadata": {
    "collapsed": false
   },
   "id": "3b939484d38217a"
  },
  {
   "cell_type": "code",
   "outputs": [],
   "source": [
    "# Set seed\n",
    "__\n",
    "\n",
    "# init list of sets\n",
    "all_sets = []\n",
    "\n",
    "# run five series in the loop\n",
    "for __ in __:\n",
    "    # init set\n",
    "    set = []\n",
    "    # in loop run 100 simulated throws for set and add them to set\n",
    "    __\n",
    "    \n",
    "print(all_sets)"
   ],
   "metadata": {
    "collapsed": false
   },
   "id": "fd65ef3568e93acc",
   "execution_count": null
  },
  {
   "cell_type": "markdown",
   "source": [
    "## Calculations\n",
    "\n",
    "You can do simple arithmetic calculations on the whole np array - this will repeat specific calculation for each element. If the arrays have the same dimensions you can do operations using them too. You can also apply the logical expressions to get array of bool values."
   ],
   "metadata": {
    "collapsed": false
   },
   "id": "3e6e1873f7e6c04f"
  },
  {
   "cell_type": "code",
   "outputs": [
    {
     "name": "stdout",
     "output_type": "stream",
     "text": [
      "[ 2  4  6  8 10 12 14 16 18]\n",
      "[ 1  4  9 16 25 36 49 64 81]\n",
      "[False False False False False  True  True  True  True]\n"
     ]
    }
   ],
   "source": [
    "some_values = [1,2,3,4,5,6,7,8,9]\n",
    "np_some_values = np.array(some_values)\n",
    "np_some_values_x2 = np_some_values *2\n",
    "print(np_some_values_x2)\n",
    "np_some_values_squared = np_some_values * np_some_values\n",
    "print(np_some_values_squared)\n",
    "np_some_values_higher_than_5 = np_some_values > 5\n",
    "print(np_some_values_higher_than_5)"
   ],
   "metadata": {
    "collapsed": false,
    "ExecuteTime": {
     "end_time": "2024-04-25T18:42:52.050997066Z",
     "start_time": "2024-04-25T18:42:52.037590141Z"
    }
   },
   "id": "9bd9f2e0036513a8",
   "execution_count": 73
  },
  {
   "cell_type": "markdown",
   "source": [
    "You received list of local football team players with heights (first value) and weights (second value). Height is inches, weight is in lb. Calculate BMIs with formula \n",
    "\n",
    "bmi = weight_kg / height_m^2\n",
    "\n",
    "1 in = 0.0254 m;  1 lb = 0.453592 kg\n",
    "\n",
    "print list of bmi < 24"
   ],
   "metadata": {
    "collapsed": false
   },
   "id": "c236f120e0970995"
  },
  {
   "cell_type": "code",
   "outputs": [
    {
     "data": {
      "text/plain": "''"
     },
     "execution_count": 76,
     "metadata": {},
     "output_type": "execute_result"
    }
   ],
   "source": [
    "team = [\n",
    "    [72,176],[69,189],[72,192],[69,180],[72,190],[69,145],[72,176],[69,188],[71,193],[69,183],[72,190],[78,200],[81,195],[67,148],[80,193],[75,183],[76,187],[74,162]\n",
    "]\n",
    "# init np array\n",
    "__\n",
    "# Create numpy array: conversion\n",
    "conversion = np.array([0.0254, 0.453592])\n",
    "# convert units\n",
    "__\n",
    "# calculate bmi\n",
    "bmi = __\n",
    "# print filtered values\n",
    "__\n"
   ],
   "metadata": {
    "collapsed": false,
    "ExecuteTime": {
     "end_time": "2024-04-25T19:24:09.180506038Z",
     "start_time": "2024-04-25T19:24:09.134069379Z"
    }
   },
   "id": "5f16d690342469dc",
   "execution_count": 76
  },
  {
   "cell_type": "markdown",
   "source": [
    "Numpy comes with build in functions for some statistic for example: .median() to calculate median,  .mean to calculate mean value, .std() to calculate standard deviation, .corrcoef(A,B) to calculate correlation between A and B.\n",
    "\n",
    "Using data from previous cell, calculate and print: maedina/mean/standard deviation for height and weight. Calculate correlation between height and bmi, also correlation between weight and height."
   ],
   "metadata": {
    "collapsed": false
   },
   "id": "2d8382199859a058"
  },
  {
   "cell_type": "code",
   "outputs": [],
   "source": [
    "# calculate statistics for height\n",
    "print(\"Average height: \" + str(__))\n",
    "print(\"Height median: \" + str(__))\n",
    "print(\"Height standard deviation: \" + str(__))\n",
    "\n",
    "# calculate statistics for weight\n",
    "print(\"Average weight: \" + str(__))\n",
    "print(\"Weight median: \" + str(__))\n",
    "print(\"Weight standard deviation: \" + str(__))\n",
    "\n",
    "# calculate correlation between height and bmi\n",
    "print(\"Correlation height and bmi: \" + str(__))\n",
    "\n",
    "# calculate correlation between height and weight\n",
    "print(\"Correlation height and weight: \" + str(__))"
   ],
   "metadata": {
    "collapsed": false
   },
   "id": "defb015bfeb01372"
  }
 ],
 "metadata": {
  "kernelspec": {
   "display_name": "Python 3 (ipykernel)",
   "language": "python",
   "name": "python3"
  },
  "language_info": {
   "codemirror_mode": {
    "name": "ipython",
    "version": 3
   },
   "file_extension": ".py",
   "mimetype": "text/x-python",
   "name": "python",
   "nbconvert_exporter": "python",
   "pygments_lexer": "ipython3",
   "version": "3.10.12"
  }
 },
 "nbformat": 4,
 "nbformat_minor": 5
}
